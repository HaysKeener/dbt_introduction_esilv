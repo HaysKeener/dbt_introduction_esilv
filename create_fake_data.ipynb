{
 "cells": [
  {
   "cell_type": "code",
   "execution_count": null,
   "id": "0b9efff2-5fd4-4b09-bd7b-2f2cd5ff457b",
   "metadata": {},
   "outputs": [],
   "source": [
    "import faker, csv, random, itertools, seaborn, math"
   ]
  },
  {
   "cell_type": "code",
   "execution_count": null,
   "id": "2afba018-aa22-410c-b9be-64e5d6327b4f",
   "metadata": {},
   "outputs": [],
   "source": [
    "fake = faker.Faker()"
   ]
  },
  {
   "cell_type": "code",
   "execution_count": null,
   "id": "cd05c2ec-7962-46b9-900f-5309e9482b78",
   "metadata": {},
   "outputs": [],
   "source": [
    "with open(\"categories.csv\") as file:\n",
    "    categories = list(csv.DictReader(file))"
   ]
  },
  {
   "cell_type": "code",
   "execution_count": null,
   "id": "4a265334-788d-4b21-b73c-84b5bfdd01df",
   "metadata": {},
   "outputs": [],
   "source": [
    "# Adding list of barcode to each category\n",
    "faker.Faker.seed(0)\n",
    "random.seed(0)\n",
    "for cat in categories:\n",
    "    cat[\"barcode_ean13\"] = [fake.ean() for _ in range(1 + int(1000 * math.exp(-10*random.random())))]\n",
    "seaborn.histplot([len(cat[\"barcode_ean13\"]) for cat in categories])\n",
    "print(set(len(cat[\"barcode_ean13\"]) for cat in categories))"
   ]
  },
  {
   "cell_type": "code",
   "execution_count": null,
   "id": "6ecab424-6061-40ec-a87f-ef69d41b0a7a",
   "metadata": {},
   "outputs": [],
   "source": [
    "# Check all barcodes are unique, if not change seeds and range_barcode\n",
    "number_barcodes = sum(len(p[\"barcode_ean13\"]) for p in categories)\n",
    "uniques_barcodes = set(itertools.chain(*[p[\"barcode_ean13\"] for p in categories]))\n",
    "assert len(uniques_barcodes) == number_barcodes"
   ]
  },
  {
   "cell_type": "code",
   "execution_count": null,
   "id": "c8b7d4fe-24d2-441b-8b4b-d53907d9222b",
   "metadata": {},
   "outputs": [],
   "source": [
    "# create the product list\n",
    "products = []\n",
    "for cat in categories:\n",
    "    for code in cat[\"barcode_ean13\"]:\n",
    "        products.append(\n",
    "            {\n",
    "                \"product_category\": cat[\"product_category\"],\n",
    "                \"pdt_SUB_CATEGORY\": cat[\"pdt_SUB_CATEGORY\"],\n",
    "                \"barcode_ean13\": code\n",
    "            })\n",
    "len(products)"
   ]
  },
  {
   "cell_type": "code",
   "execution_count": null,
   "id": "2ec10e93-12f2-41f8-bab1-e798b811142a",
   "metadata": {},
   "outputs": [],
   "source": [
    "# Create a list of unique id for sites\n",
    "faker.Faker.seed(1)\n",
    "sites_id = list(set(fake.ean() for _ in range(500)))\n",
    "len(sites_id)"
   ]
  },
  {
   "cell_type": "code",
   "execution_count": null,
   "id": "87432586-6d18-4f34-be4b-54e5d8fc0a49",
   "metadata": {},
   "outputs": [],
   "source": [
    "# assign a site group randomly for each site\n",
    "random.seed(0)\n",
    "sites = [{\"site_key\": site_id, \"grp\": random.choice([None, \"hyp\", \"sup\", \"prx\"]) } for site_id in sites_id]"
   ]
  },
  {
   "cell_type": "code",
   "execution_count": null,
   "id": "ee581a30-e905-4b27-8cde-f677c6178419",
   "metadata": {},
   "outputs": [],
   "source": [
    "%%time\n",
    "faker.Faker.seed(0)\n",
    "random.seed(0)\n",
    "\n",
    "data = []\n",
    "for site in sites:\n",
    "    \n",
    "    prod_ids = random.sample(list(range(len(products))),  len(products)//20)\n",
    "    for prod_id in prod_ids:\n",
    "        prod = products[prod_id]\n",
    "        data.append({\n",
    "            \"product_category\": prod[\"product_category\"],\n",
    "            \"pdt_SUB_CATEGORY\": prod[\"pdt_SUB_CATEGORY\"],\n",
    "            \"barcode_ean13\": \"f_\" + prod[\"barcode_ean13\"],\n",
    "            \"site_key\": \"f_\" + site[\"site_key\"],\n",
    "            \"grp\": site[\"grp\"],\n",
    "            \"DATE\": str(fake.date_this_year()),\n",
    "            \"CA\": round(1 + random.random()*50, 2)\n",
    "          })\n",
    "len(data)"
   ]
  },
  {
   "cell_type": "code",
   "execution_count": null,
   "id": "72c573e6-d6ac-4728-9279-af09663868d3",
   "metadata": {},
   "outputs": [],
   "source": [
    "data[0]"
   ]
  },
  {
   "cell_type": "code",
   "execution_count": null,
   "id": "9a7bcdbf-0651-4c82-b976-9335abb923b7",
   "metadata": {},
   "outputs": [],
   "source": [
    "%%time\n",
    "\n",
    "all = [\n",
    "    {\n",
    "        \"product_category\": prod[\"product_category\"],\n",
    "        \"pdt_SUB_CATEGORY\": prod[\"pdt_SUB_CATEGORY\"],\n",
    "        \"barcode_ean13\": \"f_\" + prod[\"barcode_ean13\"],\n",
    "        \"site_key\": \"f_\" + site[\"site_key\"],\n",
    "        \"DATE\": str(fake.date_this_year()),\n",
    "        \"CA\": round(1 + random.random()*50, 2)\n",
    "    }\n",
    "    for r in data\n",
    "]\n",
    "print(\"all\", len(all))\n",
    "with open(\"data/crf_sales_group_data.csv\", \"w\") as csvfile:\n",
    "    writer = csv.DictWriter(csvfile, all[0].keys())\n",
    "    writer.writeheader()\n",
    "    writer.writerows(all)\n",
    "\n",
    "\n",
    "for sub in [\"hyp\", \"sup\", \"prx\"]:\n",
    "    dat = [\n",
    "        {\n",
    "            \"product_category\": prod[\"product_category\"],\n",
    "            \"pdt_SUB_CATEGORY\": prod[\"pdt_SUB_CATEGORY\"],\n",
    "            \"barcode_ean13\": \"f_\" + prod[\"barcode_ean13\"],\n",
    "            \"site_key\": \"f_\" + site[\"site_key\"],\n",
    "            \"DATE\": str(fake.date_this_year()),\n",
    "            \"CA\": round(1 + random.random()*50, 2)\n",
    "        }\n",
    "        for r in data if r[\"grp\"] == sub\n",
    "    ]\n",
    "    print(sub, len(dat))\n",
    "    with open(f\"data/crf_{sub}_sales_fr_data.csv\", \"w\") as csvfile:\n",
    "        writer = csv.DictWriter(csvfile, dat[0].keys())\n",
    "        writer.writeheader()\n",
    "        writer.writerows(dat)\n"
   ]
  }
 ],
 "metadata": {
  "kernelspec": {
   "display_name": "Python 3 (ipykernel)",
   "language": "python",
   "name": "python3"
  },
  "language_info": {
   "codemirror_mode": {
    "name": "ipython",
    "version": 3
   },
   "file_extension": ".py",
   "mimetype": "text/x-python",
   "name": "python",
   "nbconvert_exporter": "python",
   "pygments_lexer": "ipython3",
   "version": "3.11.4"
  }
 },
 "nbformat": 4,
 "nbformat_minor": 5
}
